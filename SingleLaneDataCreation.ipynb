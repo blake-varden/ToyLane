{
 "cells": [
  {
   "cell_type": "code",
   "execution_count": 13,
   "metadata": {
    "collapsed": false
   },
   "outputs": [],
   "source": [
    "from create_dataset import *\n",
    "import pickle\n",
    "import time\n",
    "import numpy as np\n",
    "from simplelmdb import Simplelmdb"
   ]
  },
  {
   "cell_type": "code",
   "execution_count": 5,
   "metadata": {
    "collapsed": false
   },
   "outputs": [],
   "source": [
    "with open('single_lane_recording_640_480.pkl') as f:\n",
    "    source = pickle.load(f)\n",
    "    \n"
   ]
  },
  {
   "cell_type": "code",
   "execution_count": 15,
   "metadata": {
    "collapsed": false
   },
   "outputs": [
    {
     "name": "stdout",
     "output_type": "stream",
     "text": [
      "0\n",
      "Normalizing\n",
      "0.356142044067\n",
      "Creating Test\n",
      "0\n",
      "Normalizing\n",
      "0.351451873779\n"
     ]
    }
   ],
   "source": [
    "train_files = source['image_files'][:32]\n",
    "test_files = source['image_files'][32:64]\n",
    "import time\n",
    "start = time.time()\n",
    "data_min, data_max = create_dataset('data/datasets/single_lane_front_tiny_train.lmdb', train_files, source, size=(224,224), num_shifts=0, use_front=True)\n",
    "end = time.time()\n",
    "print end-start\n",
    "\n",
    "print \"Creating Test\"\n",
    "start = time.time()\n",
    "create_dataset('data/datasets/single_lane_front_tiny_test.lmdb', test_files,  source, size=(224,224), num_shifts=0, data_min=data_min, data_max=data_max, use_front=True) \n",
    "end = time.time()\n",
    "print end-start"
   ]
  },
  {
   "cell_type": "code",
   "execution_count": 8,
   "metadata": {
    "collapsed": false
   },
   "outputs": [],
   "source": [
    "a=Simplelmdb()"
   ]
  },
  {
   "cell_type": "code",
   "execution_count": 9,
   "metadata": {
    "collapsed": false
   },
   "outputs": [
    {
     "data": {
      "text/plain": [
       "[0, 1, 2, 3, 4, 5, 6, 7, 8, 9]"
      ]
     },
     "execution_count": 9,
     "metadata": {},
     "output_type": "execute_result"
    }
   ],
   "source": [
    "a[:10]"
   ]
  },
  {
   "cell_type": "code",
   "execution_count": 12,
   "metadata": {
    "collapsed": false
   },
   "outputs": [
    {
     "name": "stdout",
     "output_type": "stream",
     "text": [
      "cl_4_2016-09-14-12-00-57.bag  recording.pkl\r\n",
      "create_dataset.py             recording.pkl.bkup\r\n",
      "create_dataset.pyc            recording.pkl.sae\r\n",
      "\u001b[0m\u001b[01;34mdata\u001b[0m/                         resnet50.py\r\n",
      "DD_6_Evaluation.ipynb         resnet50.pyc\r\n",
      "DeepDrive.ipynb               simplelmdb.py\r\n",
      "DeepDriveTrain.ipynb          simplelmdb.pyc\r\n",
      "finetune_resnet_dd.py         SingleLaneDataCreation.ipynb\r\n",
      "foo                           single_lane_front_1750.pkl\r\n",
      "Gui Labeler.ipynb             single_lane_recording_640_480.pkl\r\n",
      "\u001b[01;34mhistory\u001b[0m/                      single_lane_recording_640_480.pkl.bkup\r\n",
      "imagenet_utils.py             single_lane_recording.pkl\r\n",
      "imagenet_utils.pyc            single_lane_recording.pkl.bkup\r\n",
      "\u001b[01;34mimages\u001b[0m/                       \u001b[01;34mtest.lmdb\u001b[0m/\r\n",
      "\u001b[01;34mimages_topdown\u001b[0m/               \u001b[01;34mtest_small.lmdb\u001b[0m/\r\n",
      "lane_labler.py                toy_data_1000_finetuned.h5\r\n",
      "model_history.py              toy_data_1000.pkl\r\n",
      "model_history.pyc             \u001b[01;34mtrain_large.lmdb\u001b[0m/\r\n",
      "\u001b[01;34mmodels\u001b[0m/                       \u001b[01;34mtrain.lmdb\u001b[0m/\r\n",
      "\u001b[01;34mpoo\u001b[0m/                          \u001b[01;34mtrain_small1.lmdb\u001b[0m/\r\n",
      "\u001b[01;34mpoop\u001b[0m/                         \u001b[01;34mtrain_small2.lmdb\u001b[0m/\r\n",
      "README.md                     \u001b[01;34mtrain_small.lmdb\u001b[0m/\r\n"
     ]
    }
   ],
   "source": [
    "ls"
   ]
  },
  {
   "cell_type": "code",
   "execution_count": null,
   "metadata": {
    "collapsed": true
   },
   "outputs": [],
   "source": []
  }
 ],
 "metadata": {
  "kernelspec": {
   "display_name": "Python 2",
   "language": "python",
   "name": "python2"
  },
  "language_info": {
   "codemirror_mode": {
    "name": "ipython",
    "version": 2
   },
   "file_extension": ".py",
   "mimetype": "text/x-python",
   "name": "python",
   "nbconvert_exporter": "python",
   "pygments_lexer": "ipython2",
   "version": "2.7.6"
  }
 },
 "nbformat": 4,
 "nbformat_minor": 1
}
