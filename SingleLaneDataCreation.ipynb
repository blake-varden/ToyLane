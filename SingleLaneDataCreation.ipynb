{
 "cells": [
  {
   "cell_type": "code",
   "execution_count": 1,
   "metadata": {
    "collapsed": false
   },
   "outputs": [],
   "source": [
    "from create_dataset import *\n",
    "import pickle\n",
    "import time\n",
    "import numpy as np\n",
    "from simplelmdb import Simplelmdb\n",
    "import os"
   ]
  },
  {
   "cell_type": "code",
   "execution_count": 2,
   "metadata": {
    "collapsed": false
   },
   "outputs": [],
   "source": [
    "with open('data/labels/single_lane_recording_640_480.pkl') as f:\n",
    "    source = pickle.load(f)\n",
    "    \n"
   ]
  },
  {
   "cell_type": "code",
   "execution_count": null,
   "metadata": {
    "collapsed": false
   },
   "outputs": [],
   "source": []
  },
  {
   "cell_type": "code",
   "execution_count": 5,
   "metadata": {
    "collapsed": false
   },
   "outputs": [
    {
     "name": "stdout",
     "output_type": "stream",
     "text": [
      "0\n",
      "1000\n",
      "2000\n",
      "3000\n",
      "4000\n",
      "5000\n",
      "6000\n",
      "7000\n",
      "8000\n",
      "9000\n",
      "10000\n",
      "11000\n",
      "12000\n",
      "13000\n",
      "14000\n",
      "Normalizing\n",
      "110.412045956\n",
      "Creating Test\n",
      "0\n",
      "1000\n",
      "2000\n",
      "Normalizing\n",
      "17.5124788284\n"
     ]
    }
   ],
   "source": [
    "train_files = source['image_files'][:1500]\n",
    "test_files = source['image_files'][1500:1750]\n",
    "folder = 'data/datasets/single_lane_topdown_2_anchor/'\n",
    "if not os.path.exists(folder):\n",
    "    os.mkdir(folder)\n",
    "targets_fn = calculate_2_anchor_displacements    \n",
    "import time\n",
    "start = time.time()\n",
    "data_min, data_max = create_dataset(folder + 'train.lmdb', train_files, source, targets_fn, 2,size=(224,224), num_shifts=9, use_front=False, normalize_targets=True)\n",
    "end = time.time()\n",
    "print end-start\n",
    "\n",
    "print \"Creating Test\"\n",
    "start = time.time()\n",
    "create_dataset(folder + 'test.lmdb', test_files,  source, targets_fn, 2, size=(224,224), num_shifts=9, data_min=data_min, data_max=data_max, use_front=False, normalize_targets=True) \n",
    "end = time.time()\n",
    "print end-start"
   ]
  },
  {
   "cell_type": "code",
   "execution_count": 6,
   "metadata": {
    "collapsed": false
   },
   "outputs": [],
   "source": [
    "a=Simplelmdb(folder+'/train.lmdb')"
   ]
  },
  {
   "cell_type": "code",
   "execution_count": 17,
   "metadata": {
    "collapsed": false
   },
   "outputs": [],
   "source": [
    "b=a.get('1235')"
   ]
  },
  {
   "cell_type": "code",
   "execution_count": 18,
   "metadata": {
    "collapsed": false
   },
   "outputs": [
    {
     "data": {
      "text/plain": [
       "array([ 0.50483313,  0.52989558])"
      ]
     },
     "execution_count": 18,
     "metadata": {},
     "output_type": "execute_result"
    }
   ],
   "source": [
    "b['image_targets']"
   ]
  },
  {
   "cell_type": "code",
   "execution_count": null,
   "metadata": {
    "collapsed": true
   },
   "outputs": [],
   "source": []
  }
 ],
 "metadata": {
  "kernelspec": {
   "display_name": "Python 2",
   "language": "python",
   "name": "python2"
  },
  "language_info": {
   "codemirror_mode": {
    "name": "ipython",
    "version": 2
   },
   "file_extension": ".py",
   "mimetype": "text/x-python",
   "name": "python",
   "nbconvert_exporter": "python",
   "pygments_lexer": "ipython2",
   "version": "2.7.6"
  }
 },
 "nbformat": 4,
 "nbformat_minor": 1
}
